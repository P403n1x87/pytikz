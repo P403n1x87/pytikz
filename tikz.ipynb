{
 "cells": [
  {
   "cell_type": "markdown",
   "metadata": {},
   "source": [
    "# Demo of `tikz`, a Python interface to Ti*k*Z\n",
    "\n",
    "using the examples from the PGF/Ti*k*Z manual"
   ]
  },
  {
   "cell_type": "code",
   "execution_count": 1,
   "metadata": {
    "tags": []
   },
   "outputs": [],
   "source": [
    "from tikz import *"
   ]
  },
  {
   "cell_type": "markdown",
   "metadata": {},
   "source": [
    "## from the prelude of \"Part I: Tutorials and Guidelines\""
   ]
  },
  {
   "cell_type": "code",
   "execution_count": 2,
   "metadata": {
    "tags": []
   },
   "outputs": [],
   "source": [
    "points = [(0, 0), (0, 2), (1, 3.25), (2, 2), (2, 0), (0, 2), (2, 2), (0, 0), (2, 0)]\n",
    "\n",
    "pic = Picture()\n",
    "pic.draw(line(points), thick=True, rounded_corners='4pt')"
   ]
  },
  {
   "cell_type": "code",
   "execution_count": 3,
   "metadata": {
    "tags": []
   },
   "outputs": [
    {
     "output_type": "stream",
     "name": "stdout",
     "text": "\\begin{tikzpicture}\n\\draw[thick,rounded corners=4pt] (0,0) -- (0,2) -- (1,3.25) -- (2,2) -- (2,0) -- (0,2) -- (2,2) -- (0,0) -- (2,0);\n\\end{tikzpicture}\n"
    }
   ],
   "source": [
    "# print uses `str`, which returns the LaTeX code of the picture\n",
    "print(pic)"
   ]
  },
  {
   "cell_type": "code",
   "execution_count": 4,
   "metadata": {},
   "outputs": [
    {
     "output_type": "execute_result",
     "data": {
      "text/plain": "<tikz.Picture at 0x7f84747f5c70>",
      "image/png": "[encoded data removed]"
     },
     "metadata": {},
     "execution_count": 4
    }
   ],
   "source": [
    "# evaluating the picture in the notebook uses `_repr_png_`, which returns an Image object\n",
    "pic"
   ]
  },
  {
   "cell_type": "code",
   "execution_count": 5,
   "metadata": {
    "tags": []
   },
   "outputs": [
    {
     "output_type": "execute_result",
     "data": {
      "text/plain": "<IPython.core.display.HTML object>",
      "text/html": "\n<div style=\"background-color:#e0e0e0\">\n  <div>\n    <img style=\"max-width:50%;padding:10px;float:left\"\n      src=\"data:image/png;base64,iVBORw0KGgoAAAANSUhEUgAAAE0AAAB8CAIAAACjTarvAAAIiUlEQVR4nO3dSUwUWRgH8K+j4Bb1okijEIhRAwQXFiUBRQENLgfiEqMXFbjQLoBbG3BB0AsHcUlLRLtFTjYKgXYZwMadg4IiuGGMiRoP4gJqPBDFOJ8+x5mBru5avveqOzP/g4lNddf3o6r/79VkMmP4/v07/Adi+N9Jn87OTofD0dPTM3ny5OXLl48cOVLYqQU58Sxms7m8vDw9PT0sLKypqenZs2enTp1KTU0VcHYQ5ty+ffsfPzNhwgT2it1uz8rKcjqds2bNEjCACOfp06dzc3NbW1t/I1nweubn5+PrRqOR9wzcne3t7UlJSRcuXEhISBj4U/S3tLRcuXLF39+f6xh8ne/evYuLi8ObNjs72+UBfX19+BWdMmXKsWPH+I0BXJ3fvn1LS0sLCQmxWq1uDnv79m1MTMyePXsyMzM5TQJcnVu2bLl58+aNGzc83pN37txJSUmpr6+Pj4/nNAwvJ9ZpTk7OwO6RCnZSQUEBHh8YGMhjHi5O1j3nz59PTEyU/y72e+HUSfTO9+/fY/ds3brVZDIpeiN2Et69ERERZWVltCMBuZN1T3BwsM1mU/F27KTo6OjCwkLyTiJ24mW8fv061o/qew87KTk5ubGxkXafROmsqqratGmT/O6RCuskBI8bN45qNjJnR0fHnDlzzp07N3v2bO2fhr+vu3fvXr58maqTaJzd3d2xsbG4YK5fv177p2G+fv2K+6TIyMijR4+SfCCBE7tn4cKF48ePP3nyJMlMLNhJM2bMKCoqysjI0P5pBE7cvuKih90zZMgQ7QP9M/hVx5Xm0qVLM2fO1PhRWp3YPRs3bsTO0Ng9UqmoqNi5c6f2TtLkvH//PrYOVfdIBTupra2tqalJSyepd2L34L4HHyDxeqo+vZx8+fIFOykqKspisaj+EJVO7J5FixYFBQXRdo9UWCcVFxevW7dO3SeodJrNZlzc8Jlr6NCh6k6sNC0tLXhVnU4n3kQq3q7GeebMGVwncR3n1D1SwXtn165deN6AgACl71XsZN3jcDhw96P0ZNqDXXDv3j0VnaTM2dPTg7fNpp9ROCFNsJNwRZ0+ffqRI0cUvVGBk3WP0WjENU3xgHR58+YNPrsp7SQFzh07dmAN4L5HWPdIRUUnyXWePXvWZDKJ7x6psE7C/cPYsWPlHC/Lybqnrq4uKSlJ84Rkwc7HwfCqyukkz84PHz7gM5eO3SMV1km4fzh8+LDHgz04sXsWL16Me2h8xqebkCxdXV0xMTH79u1bu3at+yM9OPPz8xsaGrB7hg0bRjkgXW7fvj1//nxcUfGmc3OYOyfrHnwmCg4O5jAhWWw22+7du913kqTzwYMHiYmJ3tY9UsHr8fDhQ+wkPz8/lwe4drLuwU1WTk4O5wlpgp2UnJyM+wepTnLhxO5ZsmQJ7pW9s3ukwjpp//79a9asGfhTF86CgoL6+np85ho+fLiQCcly69atBQsW4AMjgvv9qL+zuro6Ozu7tbU1JCRE4IRksVqthYWFuG/r10n/cuJXOSEhoba2du7cuaIHpAtep0ePHuFKM3jw4N8v/u38+PEjXu4NGzbk5ubqNCFNsJPmzZuHPXro0KHfL/5y4p+47xkzZkxlZaV+E5Ll9evX6CwpKVm9ejV75ZezvLy8tLQUl1rdn7mo0tzcjKtGZ2cn+we/P5yfP38ODQ3F3Y9Pfy0HJisry2AwHD9+HJgT11aHw4GbCb0HI86rV6/Cw8OfPn0aGBj4wzl16lTsYqPRiBvFjo6Ovr4+vSfUmlGjRqWmpuIDamZmZnx8/LZt2wy4j2X/zgSusHl5efj17e3t1XtOTRk0aBBWrt1uf/78+d69e3Hbg4/jBtwoPXnyBNG4B8Jdu95DkgWvFj5Ldnd3BwUFPX782JCWlrZy5Uq8pFFRUdi3kyZN0ntCmhQXF+NW4erVqykpKfgUbsBny5qaGrxdLRYLLjj4g7CwML2H1JqKiorNmzfjFj0yMhK3PSNGjDD4+/u/fPmSLTL4Ozhx4oSvU/ExC5GNjY1sN3/gwAHsIAP8fNocPXo0O8jXqf2QmLKyMryw/Z3gy9SBSHDjBN+kukSCeyf4GlUKCR6d4DtUN0iQ4wRfoLpHgkwneDfVIxLkO8FbqXKQoMgJ3keViQSlTvAmqnwkqHCCd1AVIUGdE/SmKkWCaifoR1WBBC1O0IOqDgkanSCWqhoJ2p0giqoFCSRO4E/ViAQqJ/CkakcCoRP4UEmQQOsEaioVEsidQEclRAIPJ1BQaZHAyQnaqORI4OcEtVQeSODqBOVUTkjg7QQlVH5IEOAEeVSuSBDjBE9U3kgQ5gRpqgAkiHSCK6oYJAh2wr+pwpAg3gl/UU0mU0lJiRgk6OLELFu2rKamprq6eunSpWLOqIOzsrIyLy8PqQ0NDdeuXQsNDRVwUtFOhkRhbGxsUVGR1WoVQxXq/CeSvSKMKs45EMkihirIKYVkEUAV4XSPZOFN5e6Ug2ThSuXrlI9k4Ufl6FSKZOFE5eVUh2ThQeXi1IJkIafSO7UjWWipxE4qJAshldJJi2ShopI5eSBZSKg0Tn5IFu1UAidvJItGqlanGCSLFqomp0gki2qqeqd4JIs6qkqnXkgWFVQ1Tn2RLEqpip3egGRRRFXm9B4ki3yqAqe3IVlkUuU6vRPJIocqy+nNSBaPVM9O70eyuKd6cPoKksUN1Z3Tt5AsUlRJpy8iWVxSXTt9F8kykOrC6etIln7UgwcPtre3/+2sq6vLyMjwdSQLUm02G4qmTZu2atWquLi4X87e3t6JEyc6nU5+/2cQwcHb1Ww2R0REvHjx4sd/PwF+Ou12e21t7cWLF/UejzJdXV1tbW3R0dEBAQG/nPj3FStWlJaWhoeH6z0effCqGqqqqtLT0/38/PCSWiwWvMqfPn3SezDiNDc3/wkq5DknUadKkgAAAABJRU5ErkJggg==\">\n    <pre\n        style=\"width:50%;margin:0;padding:10px;float:right;white-space:pre-wrap\"\n        >\\begin{tikzpicture}\n\\draw[thick,rounded corners=4pt] (0,0) -- (0,2) -- (1,3.25) -- (2,2) -- (2,0) -- (0,2) -- (2,2) -- (0,0) -- (2,0);\n\\end{tikzpicture}</pre>\n  </div>\n  <div style=\"clear:both\">\n</div>\n"
     },
     "metadata": {},
     "execution_count": 5
    }
   ],
   "source": [
    "# the convenience function `demo` shows both the image and the code\n",
    "demo(pic)"
   ]
  },
  {
   "cell_type": "markdown",
   "metadata": {},
   "source": [
    "## from \"2.2.1 Setting up the Environment in LaTeX\""
   ]
  },
  {
   "cell_type": "code",
   "execution_count": 6,
   "metadata": {
    "tags": []
   },
   "outputs": [
    {
     "output_type": "execute_result",
     "data": {
      "text/plain": "<IPython.core.display.HTML object>",
      "text/html": "\n<div style=\"background-color:#e0e0e0\">\n  <div>\n    <img style=\"max-width:50%;padding:10px;float:left\"\n      src=\"data:image/png;base64,iVBORw0KGgoAAAANSUhEUgAAAHIAAAByCAIAAAAAvxIqAAABYklEQVR4nO3UsWnDYBRG0WgHNyYQCKTN2p7BlSpX9ioqtIEStIDcHH4E90zwcR+8adu2jzO43+8/u9FD3jKdJevtdvvdjR7ylrISZSXKSpSVKCtRVqKsRFmJshJlJcpKlJUoK1FWoqxEWYmyEmUlykqUlSgrUVairERZibISZSXKSpSVKCtRVqKsRFmJshJlJcpKlJUoK1FWoqxEWYmyEmUlykqUlSgrUVairERZibISZSXKSpSVKCtRVmKa53lZltEzjj0ej6/d6CHHrtfr9Hq91nUdveTY//m/d6OHHLtcLj0BoqxEWYmyEmUlykqUlSgrUVairERZibISZSXKSpSVKCtRVqKsRFmJshJlJcpKlJUoK1FWoqxEWYmyEmUlykqUlSgrUVairERZibISZSXKSpSVKCtRVqKsRFmJshJlJcpKlJUoK1FWoqxEWYmyEmUlykqUlThN1ufz+bkbPeQtfxlvr/dkQUmRAAAAAElFTkSuQmCC\">\n    <pre\n        style=\"width:50%;margin:0;padding:10px;float:right;white-space:pre-wrap\"\n        >\\begin{tikzpicture}\n\\draw (-1.5,0) -- (1.5,0);\n\\draw (0,-1.5) -- (0,1.5);\n\\end{tikzpicture}</pre>\n  </div>\n  <div style=\"clear:both\">\n</div>\n"
     },
     "metadata": {},
     "execution_count": 6
    }
   ],
   "source": [
    "a = 1.5\n",
    "\n",
    "pic = Picture()\n",
    "pic.draw(line([(-a, 0), (a, 0)]))\n",
    "pic.draw(line([(0, -a), (0, a)]))\n",
    "\n",
    "demo(pic)"
   ]
  },
  {
   "cell_type": "markdown",
   "metadata": {},
   "source": [
    "## from \"2.4 Curved Path Construction\""
   ]
  },
  {
   "cell_type": "code",
   "execution_count": 7,
   "metadata": {
    "tags": []
   },
   "outputs": [
    {
     "output_type": "execute_result",
     "data": {
      "text/plain": "<IPython.core.display.HTML object>",
      "text/html": "\n<div style=\"background-color:#e0e0e0\">\n  <div>\n    <img style=\"max-width:50%;padding:10px;float:left\"\n      src=\"data:image/png;base64,iVBORw0KGgoAAAANSUhEUgAAAFIAAAAsCAIAAAB5Znh9AAAFCklEQVR4nO1aWShtXxj/H2TsRDpmQqaSIeOD6cE8FEKdwoNMUchUMnugzN0oDygPZo5MIUKRRDLPRIZMhUyZh/u7d9dJ13CPY+9z/Lt+D6e91l57re+317e+7/ftDu3p6ek/3uL8/Lynp+fs7ExYWFhPT8/Q0JDqFbe2toaHh6+ursTExCwtLVVUVGi8p11TU3N4eEhci4iIuLq6wg7qlgPb+vp6vGWiSafTmUwmr2kfHx83NDTc3t6yezQ0NNzc3KhbcW5urr+//3mPjY0Nr2mfnp7W1dXd3Nywe7S1tZ2dnalbcWlpCWfqeY+trS0fnJzFYu3u7hLXOGyenp4yMjLULXd3d1dbW3tyckI0paSk+ODkADwcXofDJiQkZGZmRunBJgDOg4ODOOTi4uLwcElJST7Q/gr4pv0v4Zv2v4Rv2l8AOzs7s7OzU1NTR0dHNNov2wQEBNh3n34DSt7U1NTc3FxJSYnrhfhPe319va+vD9XC5eWlurq6hYWFmpqatLT0W+ORfldWVkZGRvDLYDC8vLx0dHQ+uijfaE9PT3d0dKAmMTAwcHR0VFRU5GISSN3q6uqZmRk/Pz9ra2vOH+Q17YODA2jy5eVlKysryFLIps/P+fj4WFVVNTY2lpqaKisry8kjvKONPSkrKwPP0NBQVF2kzw8Fmpubiz13cXH562Be0O7t7W1tbTUxMUENgNqD0rUqKiqur6/Dw8PfH0YtbZzezs5OBwcHDw8PRGbqFnqO7u7u1dXViIiId8ZQRXtychIu7fYbVMz/PmpqavDr6+v71gDyaSMV5efn6+rqBgcHo7Qkd3LOkZeXZ2dnZ2xs/OpdMmmjoP/x48f5+XlsbCyqebKm5Q4PDw+RkZEFBQWvRhPSaA8NDbFYLERp7DMpE34em5ubSGzJyckvb5FAm8gcmpqagYGBn5yKdMDVIeNe5svP0h4YGGhubk5ISFBQUPjMPBQBgjctLQ2x5o9+7mnf3NxkZWVpa2v7+/t/2jwKkZSUFB0d/Yd645L2wsJCUVFRXFyclpYWSeZRBWSWpqammJiY553c0C4vL9/b20tMTORjfvoQENKLi4uf93yM9sXFRUpKipOTEye69+ugpKQEOfx5ffoB2lB8CA+IjcrKytSYRxWQybq6usLCwtg9nNJGxG5ra0MMExUVpcw8CgEnzczMZDc5ol1ZWYnkjBNCpWHUAsKxsLCQ3fwLbVTw2dnZRkZG/6/D/BIQVAEBAew09h5tFK4I1yEhIV9Hb3KN9vZ2lAnsD09v0t7e3s7JyYGg/Zry66NYXl5G1RAUFEQ0X6cNNYLaBeUUnU7nrXlUAdVhRkYGQjLRfIX2zMxMaWkpAoCwsDDPzaMQKBzgv8Q1jfjmfnR0BMkF70eiamlpgXYXFBTkr5XkAhVEfHw8eImIiKBJOz097ejoODs7ExAQ2NnZQVd6ejrPvnvxBhMTE7Ozs9XV1X5+fvr6+sbGxjQWi0WwXVxcRBiLiopydHTkt51kAvva2NiIChRyy93dXUxMzNvbm1ZRUYGthtgeHR2FcJWTk2Mymfw2lUxMTU0NDg7iYnx83MTEBBcWFha0qqoqHGz2ICUlJbwMvtlIAdbW1iDIobuIJs6vs7MzDe9gbGyM+MeUhISEvb29qqoqX+0kGQjYcPL9/X2iKS8v7+Pj8yuSb2xszM/PI3SbmpoyGAz+WkkF7u/vsbWHh4dgZ2Zmhpz1E5eqhTkZrAYyAAAAAElFTkSuQmCC\">\n    <pre\n        style=\"width:50%;margin:0;padding:10px;float:right;white-space:pre-wrap\"\n        >\\begin{tikzpicture}\n\\filldraw[gray] (0,0) circle[radius=2pt] (1,1) circle[radius=2pt] (2,1) circle[radius=2pt] (2,0) circle[radius=2pt];\n\\draw (0,0) .. controls (1,1) and (2,1) .. (2,0);\n\\end{tikzpicture}</pre>\n  </div>\n  <div style=\"clear:both\">\n</div>\n"
     },
     "metadata": {},
     "execution_count": 7
    }
   ],
   "source": [
    "p1 = (0, 0)\n",
    "p2 = (1, 1)\n",
    "p3 = (2, 1)\n",
    "p4 = (2, 0)\n",
    "\n",
    "pic = Picture()\n",
    "pic.filldraw(\n",
    "    p1, circle(radius='2pt'),\n",
    "    p2, circle(radius='2pt'),\n",
    "    p3, circle(radius='2pt'),\n",
    "    p4, circle(radius='2pt'),\n",
    "    gray=True)\n",
    "pic.draw(p1, controls(p2, p3), p4)\n",
    "\n",
    "demo(pic)"
   ]
  },
  {
   "cell_type": "code",
   "execution_count": 8,
   "metadata": {
    "tags": []
   },
   "outputs": [
    {
     "output_type": "execute_result",
     "data": {
      "text/plain": "<IPython.core.display.HTML object>",
      "text/html": "\n<div style=\"background-color:#e0e0e0\">\n  <div>\n    <img style=\"max-width:50%;padding:10px;float:left\"\n      src=\"data:image/png;base64,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\">\n    <pre\n        style=\"width:50%;margin:0;padding:10px;float:right;white-space:pre-wrap\"\n        >\\begin{tikzpicture}\n\\draw (-1.5,0) -- (1.5,0);\n\\draw (0,-1.5) -- (0,1.5);\n\\draw (-1,0) .. controls (-1,0.555) and (-0.555,1) .. (0,1) .. controls (0.555,1) and (1,0.555) .. (1,0);\n\\end{tikzpicture}</pre>\n  </div>\n  <div style=\"clear:both\">\n</div>\n"
     },
     "metadata": {},
     "execution_count": 8
    }
   ],
   "source": [
    "pic = Picture()\n",
    "pic.draw(line([(-1.5, 0), (1.5, 0)]))\n",
    "pic.draw(line([(0, -1.5), (0, 1.5)]))\n",
    "pic.draw((-1, 0), controls((-1, 0.555), (-0.555, 1)), (0, 1), controls((0.555, 1), (1, 0.555)), (1, 0))\n",
    "\n",
    "demo(pic)"
   ]
  },
  {
   "cell_type": "markdown",
   "metadata": {},
   "source": [
    "## from \"2.5 Circle Path Construction\""
   ]
  },
  {
   "cell_type": "code",
   "execution_count": 9,
   "metadata": {
    "tags": []
   },
   "outputs": [
    {
     "output_type": "execute_result",
     "data": {
      "text/plain": "<IPython.core.display.HTML object>",
      "text/html": "\n<div style=\"background-color:#e0e0e0\">\n  <div>\n    <img style=\"max-width:50%;padding:10px;float:left\"\n      src=\"data:image/png;base64,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\">\n    <pre\n        style=\"width:50%;margin:0;padding:10px;float:right;white-space:pre-wrap\"\n        >\\begin{tikzpicture}\n\\draw (-1.5,0) -- (1.5,0);\n\\draw (0,-1.5) -- (0,1.5);\n\\draw (0,0) circle[radius=1];\n\\end{tikzpicture}</pre>\n  </div>\n  <div style=\"clear:both\">\n</div>\n"
     },
     "metadata": {},
     "execution_count": 9
    }
   ],
   "source": [
    "pic = Picture()\n",
    "pic.draw(line([(-1.5, 0), (1.5, 0)]))\n",
    "pic.draw(line([(0, -1.5), (0, 1.5)]))\n",
    "pic.draw((0, 0), circle(radius=1))\n",
    "\n",
    "demo(pic)"
   ]
  },
  {
   "cell_type": "markdown",
   "metadata": {},
   "source": [
    "## from \"2.6 Rectangle Path Construction\""
   ]
  },
  {
   "cell_type": "code",
   "execution_count": 10,
   "metadata": {
    "tags": []
   },
   "outputs": [
    {
     "output_type": "execute_result",
     "data": {
      "text/plain": "<IPython.core.display.HTML object>",
      "text/html": "\n<div style=\"background-color:#e0e0e0\">\n  <div>\n    <img style=\"max-width:50%;padding:10px;float:left\"\n      src=\"data:image/png;base64,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\">\n    <pre\n        style=\"width:50%;margin:0;padding:10px;float:right;white-space:pre-wrap\"\n        >\\begin{tikzpicture}\n\\draw (-1.5,0) -- (1.5,0);\n\\draw (0,-1.5) -- (0,1.5);\n\\draw (0,0) circle[radius=1];\n\\draw (0,0) rectangle (0.5,0.5);\n\\draw (-0.5,-0.5) rectangle (-1,-1);\n\\end{tikzpicture}</pre>\n  </div>\n  <div style=\"clear:both\">\n</div>\n"
     },
     "metadata": {},
     "execution_count": 10
    }
   ],
   "source": [
    "pic = Picture()\n",
    "pic.draw(line([(-1.5, 0), (1.5, 0)]))\n",
    "pic.draw(line([(0, -1.5), (0, 1.5)]))\n",
    "pic.draw((0, 0), circle(radius=1))\n",
    "pic.draw((0, 0), rectangle((0.5, 0.5)))\n",
    "pic.draw((-0.5, -0.5), rectangle((-1, -1)))\n",
    "\n",
    "demo(pic)"
   ]
  },
  {
   "cell_type": "markdown",
   "metadata": {},
   "source": [
    "## from \"2.7 Grid Path Construction\""
   ]
  },
  {
   "cell_type": "code",
   "execution_count": 11,
   "metadata": {
    "tags": []
   },
   "outputs": [
    {
     "output_type": "execute_result",
     "data": {
      "text/plain": "<IPython.core.display.HTML object>",
      "text/html": "\n<div style=\"background-color:#e0e0e0\">\n  <div>\n    <img style=\"max-width:50%;padding:10px;float:left\"\n      src=\"data:image/png;base64,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\">\n    <pre\n        style=\"width:50%;margin:0;padding:10px;float:right;white-space:pre-wrap\"\n        >\\begin{tikzpicture}\n\\draw (-1.5,0) -- (1.5,0);\n\\draw (0,-1.5) -- (0,1.5);\n\\draw (0,0) circle[radius=1];\n\\draw[gray,very thin] (-1.4,-1.4) grid[step=0.5cm] (1.4,1.4);\n\\end{tikzpicture}</pre>\n  </div>\n  <div style=\"clear:both\">\n</div>\n"
     },
     "metadata": {},
     "execution_count": 11
    }
   ],
   "source": [
    "pic = Picture()\n",
    "pic.draw(line([(-1.5, 0), (1.5, 0)]))\n",
    "pic.draw(line([(0, -1.5), (0, 1.5)]))\n",
    "pic.draw((0, 0), circle(radius=1))\n",
    "pic.draw((-1.4, -1.4), grid((1.4, 1.4), step='0.5cm'), options='gray,very thin')\n",
    "\n",
    "demo(pic)"
   ]
  }
 ],
 "metadata": {
  "language_info": {
   "codemirror_mode": {
    "name": "ipython",
    "version": 3
   },
   "file_extension": ".py",
   "mimetype": "text/x-python",
   "name": "python",
   "nbconvert_exporter": "python",
   "pygments_lexer": "ipython3",
   "version": "3.8.2-final"
  },
  "orig_nbformat": 2,
  "kernelspec": {
   "name": "python38264bitstdcondafbc71e15ee1847f1ad9c90ba15b2ed53",
   "display_name": "Python 3.8.2 64-bit ('std': conda)"
  }
 },
 "nbformat": 4,
 "nbformat_minor": 2
}