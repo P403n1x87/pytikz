{
 "cells": [
  {
   "cell_type": "markdown",
   "metadata": {},
   "source": [
    "# Demo of `tikz`, a Python interface to Ti*k*Z\n",
    "\n",
    "using the examples from the PGF/Ti*k*Z manual"
   ]
  },
  {
   "cell_type": "code",
   "execution_count": 1,
   "metadata": {
    "tags": []
   },
   "outputs": [],
   "source": [
    "from tikz import *"
   ]
  },
  {
   "cell_type": "markdown",
   "metadata": {},
   "source": [
    "## from the prelude of \"Part I: Tutorials and Guidelines\""
   ]
  },
  {
   "cell_type": "code",
   "execution_count": 2,
   "metadata": {
    "tags": []
   },
   "outputs": [],
   "source": [
    "points = [(0, 0), (0, 2), (1, 3.25), (2, 2), (2, 0), (0, 2), (2, 2), (0, 0), (2, 0)]\n",
    "\n",
    "pic = Picture()\n",
    "pic.draw(line(points), thick=True, rounded_corners='4pt')"
   ]
  },
  {
   "cell_type": "code",
   "execution_count": 3,
   "metadata": {
    "tags": []
   },
   "outputs": [
    {
     "output_type": "stream",
     "name": "stdout",
     "text": "\\begin{tikzpicture}\n\\draw[thick,rounded corners=4pt] (0,0) -- (0,2) -- (1,3.25) -- (2,2) -- (2,0) -- (0,2) -- (2,2) -- (0,0) -- (2,0);\n\\end{tikzpicture}\n"
    }
   ],
   "source": [
    "# print uses `str`, which returns the LaTeX code of the picture\n",
    "print(pic)"
   ]
  },
  {
   "cell_type": "code",
   "execution_count": 4,
   "metadata": {},
   "outputs": [
    {
     "output_type": "execute_result",
     "data": {
      "text/plain": "<tikz.Picture at 0x7f89d010bd60>",
      "image/png": "[encoded data removed]"
     },
     "metadata": {},
     "execution_count": 4
    }
   ],
   "source": [
    "# evaluating the picture in the notebook uses `_repr_png_`, which returns an Image object\n",
    "pic"
   ]
  },
  {
   "cell_type": "code",
   "execution_count": 5,
   "metadata": {
    "tags": []
   },
   "outputs": [
    {
     "output_type": "execute_result",
     "data": {
      "text/plain": "<IPython.core.display.HTML object>",
      "text/html": "\n<div style=\"background-color:#e0e0e0;margin:0\">\n  <div>\n    <img style=\"max-width:47%;padding:10px;float:left\"\n      src=\"data:image/png;base64,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\">\n    <pre\n        style=\"width:47%;margin:0;padding:10px;float:right;white-space:pre-wrap\"\n        >\\begin{tikzpicture}\n\\draw[thick,rounded corners=4pt] (0,0) -- (0,2) -- (1,3.25) -- (2,2) -- (2,0) -- (0,2) -- (2,2) -- (0,0) -- (2,0);\n\\end{tikzpicture}</pre>\n  </div>\n  <div style=\"clear:both\"></div>\n</div>\n"
     },
     "metadata": {},
     "execution_count": 5
    }
   ],
   "source": [
    "# the convenience function `demo` shows both the image and the code\n",
    "pic.demo()"
   ]
  },
  {
   "cell_type": "markdown",
   "metadata": {},
   "source": [
    "## from \"2.2.1 Setting up the Environment in LaTeX\""
   ]
  },
  {
   "cell_type": "code",
   "execution_count": 6,
   "metadata": {
    "tags": []
   },
   "outputs": [
    {
     "output_type": "execute_result",
     "data": {
      "text/plain": "<IPython.core.display.HTML object>",
      "text/html": "\n<div style=\"background-color:#e0e0e0;margin:0\">\n  <div>\n    <img style=\"max-width:47%;padding:10px;float:left\"\n      src=\"data:image/png;base64,iVBORw0KGgoAAAANSUhEUgAAAHIAAAByCAIAAAAAvxIqAAABYklEQVR4nO3UsWnDYBRG0WgHNyYQCKTN2p7BlSpX9ioqtIEStIDcHH4E90zwcR+8adu2jzO43+8/u9FD3jKdJevtdvvdjR7ylrISZSXKSpSVKCtRVqKsRFmJshJlJcpKlJUoK1FWoqxEWYmyEmUlykqUlSgrUVairERZibISZSXKSpSVKCtRVqKsRFmJshJlJcpKlJUoK1FWoqxEWYmyEmUlykqUlSgrUVairERZibISZSXKSpSVKCtRVmKa53lZltEzjj0ej6/d6CHHrtfr9Hq91nUdveTY//m/d6OHHLtcLj0BoqxEWYmyEmUlykqUlSgrUVairERZibISZSXKSpSVKCtRVqKsRFmJshJlJcpKlJUoK1FWoqxEWYmyEmUlykqUlSgrUVairERZibISZSXKSpSVKCtRVqKsRFmJshJlJcpKlJUoK1FWoqxEWYmyEmUlykqUlThN1ufz+bkbPeQtfxlvr/dkQUmRAAAAAElFTkSuQmCC\">\n    <pre\n        style=\"width:47%;margin:0;padding:10px;float:right;white-space:pre-wrap\"\n        >\\begin{tikzpicture}\n\\draw (-1.5,0) -- (1.5,0);\n\\draw (0,-1.5) -- (0,1.5);\n\\end{tikzpicture}</pre>\n  </div>\n  <div style=\"clear:both\"></div>\n</div>\n"
     },
     "metadata": {},
     "execution_count": 6
    }
   ],
   "source": [
    "a = 1.5\n",
    "\n",
    "pic = Picture()\n",
    "pic.draw(line([(-a, 0), (a, 0)]))\n",
    "pic.draw(line([(0, -a), (0, a)]))\n",
    "\n",
    "pic.demo()"
   ]
  },
  {
   "cell_type": "markdown",
   "metadata": {},
   "source": [
    "## from \"2.4 Curved Path Construction\""
   ]
  },
  {
   "cell_type": "code",
   "execution_count": 7,
   "metadata": {
    "tags": []
   },
   "outputs": [
    {
     "output_type": "execute_result",
     "data": {
      "text/plain": "<IPython.core.display.HTML object>",
      "text/html": "\n<div style=\"background-color:#e0e0e0;margin:0\">\n  <div>\n    <img style=\"max-width:47%;padding:10px;float:left\"\n      src=\"data:image/png;base64,iVBORw0KGgoAAAANSUhEUgAAAFIAAAAsCAIAAAB5Znh9AAAFCklEQVR4nO1aWShtXxj/H2TsRDpmQqaSIeOD6cE8FEKdwoNMUchUMnugzN0oDygPZo5MIUKRRDLPRIZMhUyZh/u7d9dJ13CPY+9z/Lt+D6e91l57re+317e+7/ftDu3p6ek/3uL8/Lynp+fs7ExYWFhPT8/Q0JDqFbe2toaHh6+ursTExCwtLVVUVGi8p11TU3N4eEhci4iIuLq6wg7qlgPb+vp6vGWiSafTmUwmr2kfHx83NDTc3t6yezQ0NNzc3KhbcW5urr+//3mPjY0Nr2mfnp7W1dXd3Nywe7S1tZ2dnalbcWlpCWfqeY+trS0fnJzFYu3u7hLXOGyenp4yMjLULXd3d1dbW3tyckI0paSk+ODkADwcXofDJiQkZGZmRunBJgDOg4ODOOTi4uLwcElJST7Q/gr4pv0v4Zv2v4Rv2l8AOzs7s7OzU1NTR0dHNNov2wQEBNh3n34DSt7U1NTc3FxJSYnrhfhPe319va+vD9XC5eWlurq6hYWFmpqatLT0W+ORfldWVkZGRvDLYDC8vLx0dHQ+uijfaE9PT3d0dKAmMTAwcHR0VFRU5GISSN3q6uqZmRk/Pz9ra2vOH+Q17YODA2jy5eVlKysryFLIps/P+fj4WFVVNTY2lpqaKisry8kjvKONPSkrKwPP0NBQVF2kzw8Fmpubiz13cXH562Be0O7t7W1tbTUxMUENgNqD0rUqKiqur6/Dw8PfH0YtbZzezs5OBwcHDw8PRGbqFnqO7u7u1dXViIiId8ZQRXtychIu7fYbVMz/PmpqavDr6+v71gDyaSMV5efn6+rqBgcHo7Qkd3LOkZeXZ2dnZ2xs/OpdMmmjoP/x48f5+XlsbCyqebKm5Q4PDw+RkZEFBQWvRhPSaA8NDbFYLERp7DMpE34em5ubSGzJyckvb5FAm8gcmpqagYGBn5yKdMDVIeNe5svP0h4YGGhubk5ISFBQUPjMPBQBgjctLQ2x5o9+7mnf3NxkZWVpa2v7+/t/2jwKkZSUFB0d/Yd645L2wsJCUVFRXFyclpYWSeZRBWSWpqammJiY553c0C4vL9/b20tMTORjfvoQENKLi4uf93yM9sXFRUpKipOTEye69+ugpKQEOfx5ffoB2lB8CA+IjcrKytSYRxWQybq6usLCwtg9nNJGxG5ra0MMExUVpcw8CgEnzczMZDc5ol1ZWYnkjBNCpWHUAsKxsLCQ3fwLbVTw2dnZRkZG/6/D/BIQVAEBAew09h5tFK4I1yEhIV9Hb3KN9vZ2lAnsD09v0t7e3s7JyYGg/Zry66NYXl5G1RAUFEQ0X6cNNYLaBeUUnU7nrXlUAdVhRkYGQjLRfIX2zMxMaWkpAoCwsDDPzaMQKBzgv8Q1jfjmfnR0BMkF70eiamlpgXYXFBTkr5XkAhVEfHw8eImIiKBJOz097ejoODs7ExAQ2NnZQVd6ejrPvnvxBhMTE7Ozs9XV1X5+fvr6+sbGxjQWi0WwXVxcRBiLiopydHTkt51kAvva2NiIChRyy93dXUxMzNvbm1ZRUYGthtgeHR2FcJWTk2Mymfw2lUxMTU0NDg7iYnx83MTEBBcWFha0qqoqHGz2ICUlJbwMvtlIAdbW1iDIobuIJs6vs7MzDe9gbGyM+MeUhISEvb29qqoqX+0kGQjYcPL9/X2iKS8v7+Pj8yuSb2xszM/PI3SbmpoyGAz+WkkF7u/vsbWHh4dgZ2Zmhpz1E5eqhTkZrAYyAAAAAElFTkSuQmCC\">\n    <pre\n        style=\"width:47%;margin:0;padding:10px;float:right;white-space:pre-wrap\"\n        >\\begin{tikzpicture}\n\\filldraw[gray] (0,0) circle[radius=2pt] (1,1) circle[radius=2pt] (2,1) circle[radius=2pt] (2,0) circle[radius=2pt];\n\\draw (0,0) .. controls (1,1) and (2,1) .. (2,0);\n\\end{tikzpicture}</pre>\n  </div>\n  <div style=\"clear:both\"></div>\n</div>\n"
     },
     "metadata": {},
     "execution_count": 7
    }
   ],
   "source": [
    "p1 = (0, 0)\n",
    "p2 = (1, 1)\n",
    "p3 = (2, 1)\n",
    "p4 = (2, 0)\n",
    "\n",
    "pic = Picture()\n",
    "pic.filldraw(\n",
    "    p1, circle(radius='2pt'),\n",
    "    p2, circle(radius='2pt'),\n",
    "    p3, circle(radius='2pt'),\n",
    "    p4, circle(radius='2pt'),\n",
    "    gray=True)\n",
    "pic.draw(p1, controls(p2, p3), p4)\n",
    "\n",
    "pic.demo()"
   ]
  },
  {
   "cell_type": "code",
   "execution_count": 8,
   "metadata": {
    "tags": []
   },
   "outputs": [
    {
     "output_type": "execute_result",
     "data": {
      "text/plain": "<IPython.core.display.HTML object>",
      "text/html": "\n<div style=\"background-color:#e0e0e0;margin:0\">\n  <div>\n    <img style=\"max-width:47%;padding:10px;float:left\"\n      src=\"data:image/png;base64,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\">\n    <pre\n        style=\"width:47%;margin:0;padding:10px;float:right;white-space:pre-wrap\"\n        >\\begin{tikzpicture}\n\\draw (-1.5,0) -- (1.5,0);\n\\draw (0,-1.5) -- (0,1.5);\n\\draw (-1,0) .. controls (-1,0.555) and (-0.555,1) .. (0,1) .. controls (0.555,1) and (1,0.555) .. (1,0);\n\\end{tikzpicture}</pre>\n  </div>\n  <div style=\"clear:both\"></div>\n</div>\n"
     },
     "metadata": {},
     "execution_count": 8
    }
   ],
   "source": [
    "pic = Picture()\n",
    "pic.draw(line([(-1.5, 0), (1.5, 0)]))\n",
    "pic.draw(line([(0, -1.5), (0, 1.5)]))\n",
    "pic.draw((-1, 0), controls((-1, 0.555), (-0.555, 1)), (0, 1), controls((0.555, 1), (1, 0.555)), (1, 0))\n",
    "\n",
    "pic.demo()"
   ]
  },
  {
   "cell_type": "markdown",
   "metadata": {},
   "source": [
    "## from \"2.5 Circle Path Construction\""
   ]
  },
  {
   "cell_type": "code",
   "execution_count": 9,
   "metadata": {
    "tags": []
   },
   "outputs": [
    {
     "output_type": "execute_result",
     "data": {
      "text/plain": "<IPython.core.display.HTML object>",
      "text/html": "\n<div style=\"background-color:#e0e0e0;margin:0\">\n  <div>\n    <img style=\"max-width:47%;padding:10px;float:left\"\n      src=\"data:image/png;base64,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\">\n    <pre\n        style=\"width:47%;margin:0;padding:10px;float:right;white-space:pre-wrap\"\n        >\\begin{tikzpicture}\n\\draw (-1.5,0) -- (1.5,0);\n\\draw (0,-1.5) -- (0,1.5);\n\\draw (0,0) circle[radius=1];\n\\end{tikzpicture}</pre>\n  </div>\n  <div style=\"clear:both\"></div>\n</div>\n"
     },
     "metadata": {},
     "execution_count": 9
    }
   ],
   "source": [
    "pic = Picture()\n",
    "pic.draw(line([(-1.5, 0), (1.5, 0)]))\n",
    "pic.draw(line([(0, -1.5), (0, 1.5)]))\n",
    "pic.draw((0, 0), circle(radius=1))\n",
    "\n",
    "pic.demo()"
   ]
  },
  {
   "cell_type": "markdown",
   "metadata": {},
   "source": [
    "## from \"2.6 Rectangle Path Construction\""
   ]
  },
  {
   "cell_type": "code",
   "execution_count": 10,
   "metadata": {
    "tags": []
   },
   "outputs": [
    {
     "output_type": "execute_result",
     "data": {
      "text/plain": "<IPython.core.display.HTML object>",
      "text/html": "\n<div style=\"background-color:#e0e0e0;margin:0\">\n  <div>\n    <img style=\"max-width:47%;padding:10px;float:left\"\n      src=\"data:image/png;base64,iVBORw0KGgoAAAANSUhEUgAAAHIAAAByCAIAAAAAvxIqAAAKQElEQVR4nO2deVBN7xvA71VSIZRsNQ35Yiy/EiZR9qXUmExlmZghk9FCpUb7ghZtZCkVNVOmK1NMk5HKEmFGRMYuyx8Io10j3Rb5PXPPzJ2U7j3nPe/73mvmfP5Kep7znk/nvO/znOUm/v37t+hfoKys7D8Zqh4IK8T/itZz5879T4aqB8IKQSsRBK1EELQSQdBKBEErEQStRBC0EkHQSgRBKxEErUQQtBJB0EoEQSsRBK1EELQSQdBKhH9Aa0dHR0tLS0FBwYwZMywsLPT19bW0tFQ9KCWol9be3t63b99WVVW9evVq6NCh8B2pVKqrq2tgYPD06VMjI6PRo0c3NzfDN3V0dDQ0NLq7u83MzCwtLSdPnqzqsf+BWmhta2srLy8HcXBgwmluZWVlamrKaJXz10mgs7MTfgH3799/9+6dtrY2BK5evXrYsGF0h/8XVKy1srKyrKxsxIgRtra2CxYsUPCTSudWONJv3rwJCeFrR0fH+fPn4x8ua1SjtaurKycnp7q6ev369Q4ODnA6Kw1hv2TBIXzx4sVr167Z29s7OzsPGTIEx5C5oQKtsM9whHp6es6bN499FEIlAFspLi7evHnz8uXLOY+SH1S1wjyYmZkJB9HatWu5xqIVWLB3hYWFNTU1Xl5eJiYmXDeKDCWtsGQnJibCF/v370crj/jUrbASxsTEjBs3zsfHRywWI2TgCg2tnz9/DgkJ8fPz43TW94N/OwALmkQiSUpKGjNmDHISlhDXWlFRAach7Aws93zyYOmyGhsbo6KiPDw8SHdrZLXm5+d//frV39+ffypczSvsb0REhLW19bp16/iPajAIaj1z5gyU9Dt27MCSDe81gbS0NFjBoLzDkm0gpLSePHkSzno3NzdcCbFfaklNTZ00aZKTkxOuhH0hohUUQM+zbds2vDmxX8E6cuSIhYXFypUrMeZkwK+1qqoKmnRfX1+8aQldGAwODt6+ffvMmTPxpsWsta6uLiEhAWYAjDkZCGmFgtrb2zs+Pl5fXx9jWpxaYYg7d+48derUyJEjceWUQ+4ydlNTE1RdMNVizIlTKxyna9as4VPzK4Do3QEorqEQ3Lp1K66E2LS+ePHi6tWr+/btw5JtIKRvuoSGhsJsYGRkhCUbNq0wpuPHj2tqamLJNhCYW6AKnjJlCkKsjY2Ntra24p9pbW2FqQB2AWl0/cGjFdpTPT09W1tb/qkGA35tOjo6Cxcu5BpYXl4eGRnJ5vJVdnb29OnTlyxZgjTAP8CgFUpUT0/PzMxM/qNRAGhdtWoVQvWenp7u4ODARivsiIeHx+nTp5EG+AcYtEokEmNj42XLlvEfjQIoaAWKioq0tLTg57kP8A8waPXz8zt27BjPJEqhoxXXmcdX661bt6Duc3Z25jkOpdDRKpJdIbK2tp41axbXDfWFr9awsLCDBw+SKwDkUNPa0dERGxsbExPDdUN94aW1vb09OTkZ6hI+I2AJNa0i2bQG+8XnWOGltaCgYNq0aRYWFsgZ2ENT66VLl6CYg46R67bk8NLq7+9/9OhR5HBO0NTa2dmZmJgYERHBdVty0LXCohkQEJCSkoK8bU7Q1ApAB3Ho0CGu25KDrpV5+AnXPRWlUNYKq5aXlxfyPVp0rTk5OdBKYr8APBiUtd64caO7u9vOzo7r5hjQtYaEhERHR1MorRgoa21uboYuNjg4mOvmGNC1BgYGMg+q0IGyVpHsAZykpCSuUQyC1kEJDw9HbgrQtQYFBSUkJKDFIkBfK8xyhw8f5hrFgKhVKpXCJqFtRdsqAvS18jluELV++/YtPz8fmjy0rSJAXyusV/Hx8VyjGMQVFRWNjY1cwyCkpqYG4TFVZLKzs7W0tBA+B+vJkycuLi5jx47lGiiRSNBuGk6cOFFcXV3d2trKNbK+vh56AXLPMA2kpKRELBZPmDCBayBEzZkzp98LHmzIyspyd3fnGgXArxBxEgCt8Mskd591IPRfd+M1CaBp7ezshPaOT9fMFfpaVbBkiajXrfS1hoaGxsXFocX+M3Urfa1hYWFwRqLFCkfroKimeYVzBNoBhBUWDcpaYU3Ozc0Fs2jh6Frz8vJgJ83NzdHCuUJZa2lpqaamJvJ9F3Stb968qays3LVrF1o4VyhrjY6O9vX11dPTQwtH1wqBULdSePCCgbLWqKgoPlc8eN0iDAgIgEmdzru6NLW2t7enpKSEh4cjZ+CltaioCPpfKysr5Azsoan1/Pnz0CXzeQGZl1apVHrgwAHkDo8TNLV6enqmpaXxOQv5PiwEjTO0sBQ+PIWa1ra2NpjZYMnik4Sv1kePHtXW1rq6uvJJwgZqWlNTU+3s7Hh+Ej+GBzGhEMH1bLgC6Gjt6enZs2dPRkYGzzwYtJaUlGhoaCDfUmcJHa35+fkmJibW1tY882DQChl2796dmZlJ9BMQKGiFQ9Xb2xvL0/qIWmFeT09Pl//z9evXv379mj17NptYFxeXqVOnct0iBa0wq0KxqPgDjliCqPXjx4+5ubl9b/VAWxISEqL0PZ2HDx8OHz4c4eF80lrr6+sTExOTk5OxZEPXClMq1Hfy77x//14ikURGRioOvHv37vfv39VQ6969e2HwhoaGWLJh0yqSvZE2d+7cxYsXKwhUT62XL18GDxjveOLUyqxdsbGxCn7naqi1rq4O1gnkGwF/BadWoKGhAfqurKyswaoCddP68+dPHx+fEydO6OrqYkyLWSvw7NmzwsLCwW7KqpVWqF6gogoPDzc2NsaYVkRCq0j2SgOUXIGBgQP/S620BgQEbNq0CeE9WqUQ0QpA+dXc3Dzw+Qz10QqTqaWlJZ/XWRRASqtIdtXyy5cv/T4ESx20wi7HxMTY2NisWLGCf7a/QlArcOXKlXv37kGnIH8WXuVapVIptC1w7i9atIhnKgWQ1SqSrWDQFMbFxRkYGIhUrfXTp08JCQmgFdenXAwGca0AeIQD1snJaenSpSrUWlxcDK1zWFiY0g6bPzS0Mpw9e7a2thZmtN7eXspaGxsb4+PjYdMbNmxACEeAnlYmys/Pz9TUNCkpietVRDStPT09GRkZHz58CAoKQnhyGBmqWkWyufXOnTuwn3Z2do6OjuzlctXa3d2dl5f3+PFjNzc3Oi8790UFWpm5FcKvX78OO7xx40YdHR2lgey1Qn6JRAITzpYtW4gu9wpQmVbmn1AnXLhw4cePH3DwwoKm4E8GKNXa3t5eWlpaVVUFJQfUTwhXyjGiYq0MXV1dt2/fhoMX/EJ7bmVlZWZm1u9D//6qtb6+vqamBkrjlpYWPT09e3t7iFXJJ+L3A12ru7s7wpxVV1fn6uqqoBJoaGgATc+fP29qaoKZl3EEX7x8+dLQ0FC+7DDDHj9+vLm5OfSgo0aNQtgLcqDfIoSDDkolhEBQgHBACX+BiAiCViIIWokgaCWCoJUIglYiCFqJIGglgqCVCIJWIghaiSBoJYKglQiCViIIWokgaCWCoJUIglYiPHjwwEiGqgfCiv8DF63lM1CscTQAAAAASUVORK5CYII=\">\n    <pre\n        style=\"width:47%;margin:0;padding:10px;float:right;white-space:pre-wrap\"\n        >\\begin{tikzpicture}\n\\draw (-1.5,0) -- (1.5,0);\n\\draw (0,-1.5) -- (0,1.5);\n\\draw (0,0) circle[radius=1];\n\\draw (0,0) rectangle (0.5,0.5);\n\\draw (-0.5,-0.5) rectangle (-1,-1);\n\\end{tikzpicture}</pre>\n  </div>\n  <div style=\"clear:both\"></div>\n</div>\n"
     },
     "metadata": {},
     "execution_count": 10
    }
   ],
   "source": [
    "pic = Picture()\n",
    "pic.draw(line([(-1.5, 0), (1.5, 0)]))\n",
    "pic.draw(line([(0, -1.5), (0, 1.5)]))\n",
    "pic.draw((0, 0), circle(radius=1))\n",
    "pic.draw((0, 0), rectangle(), (0.5, 0.5))\n",
    "pic.draw((-0.5, -0.5), rectangle(), (-1, -1))\n",
    "\n",
    "pic.demo()"
   ]
  },
  {
   "cell_type": "markdown",
   "metadata": {},
   "source": [
    "## from \"2.7 Grid Path Construction\""
   ]
  },
  {
   "cell_type": "code",
   "execution_count": 11,
   "metadata": {
    "tags": []
   },
   "outputs": [
    {
     "output_type": "execute_result",
     "data": {
      "text/plain": "<IPython.core.display.HTML object>",
      "text/html": "\n<div style=\"background-color:#e0e0e0;margin:0\">\n  <div>\n    <img style=\"max-width:47%;padding:10px;float:left\"\n      src=\"data:image/png;base64,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\">\n    <pre\n        style=\"width:47%;margin:0;padding:10px;float:right;white-space:pre-wrap\"\n        >\\begin{tikzpicture}\n\\draw (-1.5,0) -- (1.5,0);\n\\draw (0,-1.5) -- (0,1.5);\n\\draw (0,0) circle[radius=1];\n\\draw[gray,very thin] (-1.4,-1.4) grid[step=0.5cm] (1.4,1.4);\n\\end{tikzpicture}</pre>\n  </div>\n  <div style=\"clear:both\"></div>\n</div>\n"
     },
     "metadata": {},
     "execution_count": 11
    }
   ],
   "source": [
    "pic = Picture()\n",
    "pic.draw(line([(-1.5, 0), (1.5, 0)]))\n",
    "pic.draw(line([(0, -1.5), (0, 1.5)]))\n",
    "pic.draw((0, 0), circle(radius=1))\n",
    "pic.draw((-1.4, -1.4), grid(step='0.5cm'), (1.4, 1.4), options='gray,very thin')\n",
    "\n",
    "pic.demo()"
   ]
  },
  {
   "cell_type": "markdown",
   "metadata": {},
   "source": [
    "## from \"2.10 Arc Path Construction\""
   ]
  },
  {
   "cell_type": "code",
   "execution_count": 12,
   "metadata": {},
   "outputs": [
    {
     "output_type": "execute_result",
     "data": {
      "text/plain": "<IPython.core.display.HTML object>",
      "text/html": "\n<div style=\"background-color:#e0e0e0;margin:0\">\n  <div>\n    <img style=\"max-width:47%;padding:10px;float:left\"\n      src=\"data:image/png;base64,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\">\n    <pre\n        style=\"width:47%;margin:0;padding:10px;float:right;white-space:pre-wrap\"\n        >\\begin{tikzpicture}[scale=3]\n\\draw[gray,very thin] (-1.4,-1.4) grid[step=0.5cm] (1.4,1.4);\n\\draw (-1.5,0) -- (1.5,0);\n\\draw (0,-1.5) -- (0,1.5);\n\\draw (0,0) circle[radius=1];\n\\draw (3mm,0mm) arc[start angle=0,end angle=30,radius=3mm];\n\\end{tikzpicture}</pre>\n  </div>\n  <div style=\"clear:both\"></div>\n</div>\n"
     },
     "metadata": {},
     "execution_count": 12
    }
   ],
   "source": [
    "pic = Picture(scale=3)\n",
    "pic.draw((-1.4, -1.4), grid(step='0.5cm'), (1.4, 1.4), options='gray,very thin')\n",
    "pic.draw(line([(-1.5, 0), (1.5, 0)]))\n",
    "pic.draw(line([(0, -1.5), (0, 1.5)]))\n",
    "pic.draw((0, 0), circle(radius=1))\n",
    "pic.draw(('3mm', '0mm'), arc(start_angle=0, end_angle=30, radius='3mm'))\n",
    "\n",
    "pic.demo()"
   ]
  },
  {
   "cell_type": "markdown",
   "metadata": {},
   "source": [
    "## from \"2.11 Clipping a Path\""
   ]
  },
  {
   "cell_type": "code",
   "execution_count": 13,
   "metadata": {},
   "outputs": [
    {
     "output_type": "execute_result",
     "data": {
      "text/plain": "<IPython.core.display.HTML object>",
      "text/html": "\n<div style=\"background-color:#e0e0e0;margin:0\">\n  <div>\n    <img style=\"max-width:47%;padding:10px;float:left\"\n      src=\"data:image/png;base64,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\">\n    <pre\n        style=\"width:47%;margin:0;padding:10px;float:right;white-space:pre-wrap\"\n        >\\begin{tikzpicture}[scale=3]\n\\clip (-0.1,-0.2) rectangle (1.1,0.75);\n\\draw[gray,very thin] (-1.4,-1.4) grid[step=0.5cm] (1.4,1.4);\n\\draw (-1.5,0) -- (1.5,0);\n\\draw (0,-1.5) -- (0,1.5);\n\\draw (0,0) circle[radius=1];\n\\draw (3mm,0mm) arc[start angle=0,end angle=30,radius=3mm];\n\\end{tikzpicture}</pre>\n  </div>\n  <div style=\"clear:both\"></div>\n</div>\n"
     },
     "metadata": {},
     "execution_count": 13
    }
   ],
   "source": [
    "pic = Picture(scale=3)\n",
    "pic.clip((-0.1, -0.2), rectangle(), (1.1,0.75))\n",
    "pic.draw((-1.4, -1.4), grid(step='0.5cm'), (1.4, 1.4), options='gray,very thin')\n",
    "pic.draw(line([(-1.5, 0), (1.5, 0)]))\n",
    "pic.draw(line([(0, -1.5), (0, 1.5)]))\n",
    "pic.draw((0, 0), circle(radius=1))\n",
    "pic.draw(('3mm', '0mm'), arc(start_angle=0, end_angle=30, radius='3mm'))\n",
    "\n",
    "pic.demo()"
   ]
  },
  {
   "cell_type": "code",
   "execution_count": 14,
   "metadata": {},
   "outputs": [
    {
     "output_type": "execute_result",
     "data": {
      "text/plain": "<IPython.core.display.HTML object>",
      "text/html": "\n<div style=\"background-color:#e0e0e0;margin:0\">\n  <div>\n    <img style=\"max-width:47%;padding:10px;float:left\"\n      src=\"data:image/png;base64,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\">\n    <pre\n        style=\"width:47%;margin:0;padding:10px;float:right;white-space:pre-wrap\"\n        >\\begin{tikzpicture}[scale=3]\n\\clip[draw] (0.5,0.5) circle[radius=0.6];\n\\draw[gray,very thin] (-1.4,-1.4) grid[step=0.5cm] (1.4,1.4);\n\\draw (-1.5,0) -- (1.5,0);\n\\draw (0,-1.5) -- (0,1.5);\n\\draw (0,0) circle[radius=1];\n\\draw (3mm,0mm) arc[start angle=0,end angle=30,radius=3mm];\n\\end{tikzpicture}</pre>\n  </div>\n  <div style=\"clear:both\"></div>\n</div>\n"
     },
     "metadata": {},
     "execution_count": 14
    }
   ],
   "source": [
    "pic = Picture(scale=3)\n",
    "pic.clip((0.5, 0.5), circle(radius=0.6), options='draw')\n",
    "pic.draw((-1.4, -1.4), grid(step='0.5cm'), (1.4, 1.4), options='gray,very thin')\n",
    "pic.draw(line([(-1.5, 0), (1.5, 0)]))\n",
    "pic.draw(line([(0, -1.5), (0, 1.5)]))\n",
    "pic.draw((0, 0), circle(radius=1))\n",
    "pic.draw(('3mm', '0mm'), arc(start_angle=0, end_angle=30, radius='3mm'))\n",
    "\n",
    "pic.demo()"
   ]
  },
  {
   "cell_type": "markdown",
   "metadata": {},
   "source": [
    "## from \"2.12 Parabola and Sine Path Construction\""
   ]
  },
  {
   "cell_type": "code",
   "execution_count": 15,
   "metadata": {},
   "outputs": [
    {
     "output_type": "execute_result",
     "data": {
      "text/plain": "<IPython.core.display.HTML object>",
      "text/html": "\n<div style=\"background-color:#e0e0e0;margin:0\">\n  <div>\n    <img style=\"max-width:47%;padding:10px;float:left\"\n      src=\"data:image/png;base64,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\">\n    <pre\n        style=\"width:47%;margin:0;padding:10px;float:right;white-space:pre-wrap\"\n        >\\begin{tikzpicture}[scale=3]\n\\draw (0,0) rectangle (1,1) (0,0) parabola (1,1);\n\\end{tikzpicture}</pre>\n  </div>\n  <div style=\"clear:both\"></div>\n</div>\n"
     },
     "metadata": {},
     "execution_count": 15
    }
   ],
   "source": [
    "pic = Picture(scale=3)\n",
    "pic.draw((0, 0), rectangle(), (1, 1), (0, 0), parabola(), (1, 1))\n",
    "\n",
    "pic.demo()"
   ]
  },
  {
   "cell_type": "code",
   "execution_count": 16,
   "metadata": {
    "tags": []
   },
   "outputs": [
    {
     "output_type": "execute_result",
     "data": {
      "text/plain": "<IPython.core.display.HTML object>",
      "text/html": "\n<div style=\"background-color:#e0e0e0;margin:0\">\n  <div>\n    <img style=\"max-width:47%;padding:10px;float:left\"\n      src=\"data:image/png;base64,iVBORw0KGgoAAAANSUhEUgAAABkAAABBCAIAAACrVpiuAAAC6UlEQVR4nM3Yv0uqYRQH8MSgKGmRIBpysCWiC+GQNEq1hpDQfxBNWZqppVBqqalpDUFLEeGgUg0uaptgEDQITm5qUOSgYhAN6v1ScK903596gnsGkdfXD6/Pc57znEdJq9XqERa3t7d3d3dyufzj42N3d7evr+/bDRKBViQSqVQqKysreP/09ATr9PS0t7dXtIUvn5yceDyeP1ey2WwikTCZTKKttbU1h8MxNDTUftHlci0vLyuVShFWLpdLp9Orq6vfrr+9ve3s7ASDQRHW+vr6wcFBf3//vx9tb29vbGxgNgRZ1Wr1+PjYbrczfopxvLq6MpvNgiwM+dzc3MTEBNsNBoPB7/cLstpvZYybm5uxsTGVSsVjFQqFWCwGjsP6ytv9/X0eC3Ok1WoVCgWH1fOZMaFQiMdCKnq9Xm4IgeGfnJycnp5mtTCDR0dHeH5e6/n5+fz83Gq1slpYySMjI2q1mtdCbG5uHh4eslrIw729PalUKsTCnZgiVkuv17evD+5IJpONRoPZKhaL0WiUOxva4/39vVarMVuXl5dTU1OYGoHWVzBbFovF6XQKHCwea2trq73ydW7hlyOP2WqDOAsbRLPZXFhYILCwULHEBgcHCSyUykAgIBZitoxGo8/nI7BKpdL19TV+I4EVj8cHBgY0Gg2BZbPZkFwymYzA6njgf9Kq1+uopR1kPIN1f3//8vKC/YLAOjs7wwyOj48TWCjbbrdbbKlhtroZeIbnwnZCYGHUw+EwHo3ASqVSeJ2fnyewMFLoGUdHRwmsjksNg9XlJP6Mha4GvT+2RQLr4eEB+/7S0hKBhX7s12cQWKgzaK1RnQksge2kIKvLlfgz1uvrKxou5D2BlclkyuXy4uIigXVxcTEzM8Nx6BFhoQvGAupsf/1ukSTE/2yhNUepwWmGwHp8fMzn86jOBBbOUMPDw7OzswQWDj06na6bLeOvhZWIY4FEIqGxSCaR2kI2uFwuGkv4/1+88RsSNfBKEjECvQAAAABJRU5ErkJggg==\">\n    <pre\n        style=\"width:47%;margin:0;padding:10px;float:right;white-space:pre-wrap\"\n        >\\begin{tikzpicture}[scale=3]\n\\draw[x=1pt,y=1pt] (0,0) parabola bend (4,16) (6,12);\n\\end{tikzpicture}</pre>\n  </div>\n  <div style=\"clear:both\"></div>\n</div>\n"
     },
     "metadata": {},
     "execution_count": 16
    }
   ],
   "source": [
    "pic = Picture(scale=3)\n",
    "pic.draw((0, 0), parabola(bend=(4, 16)), (6, 12), x='1pt', y='1pt')\n",
    "\n",
    "pic.demo()"
   ]
  },
  {
   "cell_type": "code",
   "execution_count": 17,
   "metadata": {
    "tags": []
   },
   "outputs": [
    {
     "output_type": "execute_result",
     "data": {
      "text/plain": "<IPython.core.display.HTML object>",
      "text/html": "\n<div style=\"background-color:#e0e0e0;margin:0\">\n  <div>\n    <img style=\"max-width:47%;padding:10px;float:left\"\n      src=\"data:image/png;base64,iVBORw0KGgoAAAANSUhEUgAAABwAAAASCAIAAADHZSmzAAABPklEQVR4nGP8//8/AwXg1atXW7duvXLlyr9//1hYWJiYmAoLCxnJM/Tv379btmzZt2+fqKioj4+Pvr4+IyMjXJZkQ4HqV6xYcfz48aCgIHt7e2SzyDT02LFj8+bNi4mJcXBwwKOMWEN//PjR0tIiKSmZmZkJDDj8ioky9Pr161OnTi0tLZWXlyfGBYQNXbBgwZMnTyorK5mZmYkxkYChv3//rqmpMTU1DQkJIdI4AoZ++fKloKAAGILGxsYkmYjT0JcvX1ZVVUFihlQTsRt6+/btrq6u3t5ePj4+MkzEYigww82fP7+9vZ2NjY08E9ENPXr06OrVq/v7+7HmE3IMPXHixPLly/v6+ohPOgQMBbpx8+bNQF9T6EaEoYcOHdq1a1dzczNVTAQZCiwjDhw4AMwwVDEOaigwZkjNMAQBAMHJpJUMpEFPAAAAAElFTkSuQmCC\">\n    <pre\n        style=\"width:47%;margin:0;padding:10px;float:right;white-space:pre-wrap\"\n        >\\begin{tikzpicture}[scale=3]\n\\draw[x=1ex,y=1ex] (0,0) sin (1.57,1);\n\\end{tikzpicture}</pre>\n  </div>\n  <div style=\"clear:both\"></div>\n</div>\n"
     },
     "metadata": {},
     "execution_count": 17
    }
   ],
   "source": [
    "pic = Picture(scale=3)\n",
    "pic.draw((0, 0), sin(), (1.57, 1), x='1ex', y='1ex')\n",
    "\n",
    "pic.demo()"
   ]
  },
  {
   "cell_type": "code",
   "execution_count": 18,
   "metadata": {},
   "outputs": [
    {
     "output_type": "execute_result",
     "data": {
      "text/plain": "<IPython.core.display.HTML object>",
      "text/html": "\n<div style=\"background-color:#e0e0e0;margin:0\">\n  <div>\n    <img style=\"max-width:47%;padding:10px;float:left\"\n      src=\"data:image/png;base64,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\">\n    <pre\n        style=\"width:47%;margin:0;padding:10px;float:right;white-space:pre-wrap\"\n        >\\begin{tikzpicture}[scale=3]\n\\draw[x=1.57ex,y=1ex] (0,0) sin (1,1) cos (2,0) sin (3,-1) cos (4,0) (0,1) cos (1,0) sin (2,-1) cos (3,0) sin (4,1);\n\\end{tikzpicture}</pre>\n  </div>\n  <div style=\"clear:both\"></div>\n</div>\n"
     },
     "metadata": {},
     "execution_count": 18
    }
   ],
   "source": [
    "pic = Picture(scale=3)\n",
    "pic.draw((0,0), sin(), (1,1), cos(), (2,0), sin(), (3,-1), cos(), (4,0),\n",
    "    (0,1), cos(), (1,0), sin(), (2,-1), cos(), (3,0), sin(), (4,1),\n",
    "    x='1.57ex', y='1ex')\n",
    "\n",
    "pic.demo()"
   ]
  }
 ],
 "metadata": {
  "language_info": {
   "codemirror_mode": {
    "name": "ipython",
    "version": 3
   },
   "file_extension": ".py",
   "mimetype": "text/x-python",
   "name": "python",
   "nbconvert_exporter": "python",
   "pygments_lexer": "ipython3",
   "version": "3.8.2-final"
  },
  "orig_nbformat": 2,
  "kernelspec": {
   "name": "python38264bitstdcondafbc71e15ee1847f1ad9c90ba15b2ed53",
   "display_name": "Python 3.8.2 64-bit ('std': conda)"
  }
 },
 "nbformat": 4,
 "nbformat_minor": 2
}