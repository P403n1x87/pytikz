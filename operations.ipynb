{
 "cells": [
  {
   "cell_type": "code",
   "execution_count": 1,
   "metadata": {},
   "outputs": [],
   "source": [
    "from tikz import *"
   ]
  },
  {
   "cell_type": "code",
   "execution_count": 2,
   "metadata": {},
   "outputs": [
    {
     "output_type": "execute_result",
     "data": {
      "text/plain": "'(12pt,2)'"
     },
     "metadata": {},
     "execution_count": 2
    }
   ],
   "source": [
    "moveto(('12pt', 2)).code()"
   ]
  },
  {
   "cell_type": "code",
   "execution_count": 3,
   "metadata": {},
   "outputs": [
    {
     "output_type": "execute_result",
     "data": {
      "text/plain": "'(12pt,2) (a)'"
     },
     "metadata": {},
     "execution_count": 3
    }
   ],
   "source": [
    "moveto([('12pt', 2), '(a)']).code()"
   ]
  },
  {
   "cell_type": "code",
   "execution_count": 4,
   "metadata": {},
   "outputs": [
    {
     "output_type": "execute_result",
     "data": {
      "text/plain": "'-- (a |- b)'"
     },
     "metadata": {},
     "execution_count": 4
    }
   ],
   "source": [
    "lineto('(a |- b)').code()"
   ]
  },
  {
   "cell_type": "code",
   "execution_count": 5,
   "metadata": {},
   "outputs": [
    {
     "output_type": "execute_result",
     "data": {
      "text/plain": "'-- (a |- b) -- (1.5,2.5)'"
     },
     "metadata": {},
     "execution_count": 5
    }
   ],
   "source": [
    "lineto(['(a |- b)', (1.5, 2.5)]).code()"
   ]
  },
  {
   "cell_type": "code",
   "execution_count": 6,
   "metadata": {},
   "outputs": [
    {
     "output_type": "execute_result",
     "data": {
      "text/plain": "'(a |- b) |- (1.5,2.5)'"
     },
     "metadata": {},
     "execution_count": 6
    }
   ],
   "source": [
    "line(['(a |- b)', (1.5, 2.5)], '|-').code()"
   ]
  },
  {
   "cell_type": "code",
   "execution_count": 7,
   "metadata": {},
   "outputs": [
    {
     "output_type": "execute_result",
     "data": {
      "text/plain": "'.. controls (1,9) .. (a)'"
     },
     "metadata": {},
     "execution_count": 7
    }
   ],
   "source": [
    "curveto('(a)', (1, 9)).code()"
   ]
  },
  {
   "cell_type": "code",
   "execution_count": 8,
   "metadata": {},
   "outputs": [
    {
     "output_type": "execute_result",
     "data": {
      "text/plain": "'.. controls (1,9) and (b) .. cycle'"
     },
     "metadata": {},
     "execution_count": 8
    }
   ],
   "source": [
    "curveto('cycle', (1, 9), '(b)').code()"
   ]
  },
  {
   "cell_type": "code",
   "execution_count": 9,
   "metadata": {},
   "outputs": [
    {
     "output_type": "execute_result",
     "data": {
      "text/plain": "'to[red] (3.14156,a)'"
     },
     "metadata": {},
     "execution_count": 9
    }
   ],
   "source": [
    "topath((3.1415627, 'a'), red=True).code()"
   ]
  },
  {
   "cell_type": "code",
   "execution_count": 10,
   "metadata": {},
   "outputs": [
    {
     "output_type": "execute_result",
     "data": {
      "text/plain": "'rectangle[draw=red] (3.14156,10000)'"
     },
     "metadata": {},
     "execution_count": 10
    }
   ],
   "source": [
    "rectangle((3.1415627, 1e4), draw='red').code()"
   ]
  },
  {
   "cell_type": "code",
   "execution_count": 11,
   "metadata": {},
   "outputs": [
    {
     "output_type": "execute_result",
     "data": {
      "text/plain": "'circle[radius=1]'"
     },
     "metadata": {},
     "execution_count": 11
    }
   ],
   "source": [
    "circle(radius=1).code()"
   ]
  },
  {
   "cell_type": "code",
   "execution_count": 12,
   "metadata": {},
   "outputs": [
    {
     "output_type": "execute_result",
     "data": {
      "text/plain": "'circle[radius=1pt]'"
     },
     "metadata": {},
     "execution_count": 12
    }
   ],
   "source": [
    "circle(radius='1pt').code()"
   ]
  },
  {
   "cell_type": "code",
   "execution_count": 13,
   "metadata": {},
   "outputs": [
    {
     "output_type": "execute_result",
     "data": {
      "text/plain": "'circle[x radius=1pt]'"
     },
     "metadata": {},
     "execution_count": 13
    }
   ],
   "source": [
    "circle(x_radius='1pt').code()"
   ]
  },
  {
   "cell_type": "code",
   "execution_count": 14,
   "metadata": {},
   "outputs": [
    {
     "output_type": "execute_result",
     "data": {
      "text/plain": "'circle[red,rounded corners,x radius=1pt,at=(3mm,2.34)]'"
     },
     "metadata": {},
     "execution_count": 14
    }
   ],
   "source": [
    "circle(x_radius='1pt', opt='red', rounded_corners=True, at=('3mm', 2.34)).code()"
   ]
  },
  {
   "cell_type": "code",
   "execution_count": 15,
   "metadata": {},
   "outputs": [
    {
     "output_type": "execute_result",
     "data": {
      "text/plain": "'arc[start angle=180,end angle=90]'"
     },
     "metadata": {},
     "execution_count": 15
    }
   ],
   "source": [
    "arc(start_angle=180, end_angle=90).code()"
   ]
  },
  {
   "cell_type": "code",
   "execution_count": 16,
   "metadata": {},
   "outputs": [
    {
     "output_type": "execute_result",
     "data": {
      "text/plain": "'arc[start angle=0,end angle=270,x radius=1cm,y radius=5mm]'"
     },
     "metadata": {},
     "execution_count": 16
    }
   ],
   "source": [
    "arc(start_angle=0, end_angle=270, x_radius='1cm', y_radius='5mm').code()"
   ]
  },
  {
   "cell_type": "code",
   "execution_count": 17,
   "metadata": {},
   "outputs": [
    {
     "output_type": "execute_result",
     "data": {
      "text/plain": "'grid[step=1] (3mm,2.34)'"
     },
     "metadata": {},
     "execution_count": 17
    }
   ],
   "source": [
    "grid(('3mm', 2.34), step=1).code()"
   ]
  },
  {
   "cell_type": "code",
   "execution_count": 18,
   "metadata": {},
   "outputs": [
    {
     "output_type": "execute_result",
     "data": {
      "text/plain": "'parabola (1,1.5)'"
     },
     "metadata": {},
     "execution_count": 18
    }
   ],
   "source": [
    "parabola((1, 1.5)).code()"
   ]
  },
  {
   "cell_type": "code",
   "execution_count": 19,
   "metadata": {},
   "outputs": [
    {
     "output_type": "execute_result",
     "data": {
      "text/plain": "'parabola[bend at end] (1,1.5)'"
     },
     "metadata": {},
     "execution_count": 19
    }
   ],
   "source": [
    "parabola((1, 1.5), bend_at_end=True).code()"
   ]
  },
  {
   "cell_type": "code",
   "execution_count": 20,
   "metadata": {},
   "outputs": [
    {
     "output_type": "execute_result",
     "data": {
      "text/plain": "'parabola bend (0.75,1.75) (1,1.5)'"
     },
     "metadata": {},
     "execution_count": 20
    }
   ],
   "source": [
    "parabola((1, 1.5), bend=(.75, 1.75)).code()"
   ]
  },
  {
   "cell_type": "code",
   "execution_count": 21,
   "metadata": {},
   "outputs": [
    {
     "output_type": "execute_result",
     "data": {
      "text/plain": "'parabola cycle'"
     },
     "metadata": {},
     "execution_count": 21
    }
   ],
   "source": [
    "parabola(cycle()).code()"
   ]
  },
  {
   "cell_type": "code",
   "execution_count": 22,
   "metadata": {},
   "outputs": [
    {
     "output_type": "execute_result",
     "data": {
      "text/plain": "'sin (1,2mm)'"
     },
     "metadata": {},
     "execution_count": 22
    }
   ],
   "source": [
    "sin((1, '2mm')).code()"
   ]
  },
  {
   "cell_type": "code",
   "execution_count": 23,
   "metadata": {},
   "outputs": [
    {
     "output_type": "execute_result",
     "data": {
      "text/plain": "'cos (1,2mm)'"
     },
     "metadata": {},
     "execution_count": 23
    }
   ],
   "source": [
    "cos((1, '2mm')).code()"
   ]
  },
  {
   "cell_type": "code",
   "execution_count": 24,
   "metadata": {},
   "outputs": [
    {
     "output_type": "execute_result",
     "data": {
      "text/plain": "'node {first node}'"
     },
     "metadata": {},
     "execution_count": 24
    }
   ],
   "source": [
    "node('first node').code()"
   ]
  },
  {
   "cell_type": "code",
   "execution_count": 25,
   "metadata": {},
   "outputs": [
    {
     "output_type": "execute_result",
     "data": {
      "text/plain": "'node[behind path] {second node}'"
     },
     "metadata": {},
     "execution_count": 25
    }
   ],
   "source": [
    "node('second node', behind_path=True).code()"
   ]
  },
  {
   "cell_type": "code",
   "execution_count": 26,
   "metadata": {},
   "outputs": [
    {
     "output_type": "execute_result",
     "data": {
      "text/plain": "'node[red] {A}'"
     },
     "metadata": {},
     "execution_count": 26
    }
   ],
   "source": [
    "node('A', opt='red').code()"
   ]
  },
  {
   "cell_type": "code",
   "execution_count": 27,
   "metadata": {},
   "outputs": [
    {
     "output_type": "execute_result",
     "data": {
      "text/plain": "'coordinate (hi)'"
     },
     "metadata": {},
     "execution_count": 27
    }
   ],
   "source": [
    "coordinate('hi').code()"
   ]
  },
  {
   "cell_type": "code",
   "execution_count": 28,
   "metadata": {},
   "outputs": [
    {
     "output_type": "execute_result",
     "data": {
      "text/plain": "'--plot[blue] coordinates {(0,0) (1,1) (2,0) (3,1) (2,1)}'"
     },
     "metadata": {},
     "execution_count": 28
    }
   ],
   "source": [
    "coords = [(0, 0), (1, 1), (2, 0), (3, 1), (2, 1)]\n",
    "plot(coords, to=True, opt='blue').code()"
   ]
  },
  {
   "cell_type": "code",
   "execution_count": 30,
   "metadata": {
    "tags": []
   },
   "outputs": [
    {
     "output_type": "display_data",
     "data": {
      "text/plain": "<IPython.core.display.HTML object>",
      "text/html": "<div style=\"background-color:#e0e0e0;margin:0\">\n  <div>\n    <img style=\"max-width:47%;padding:10px;float:left\"\n      src=\"data:image/png;base64,iVBORw0KGgoAAAANSUhEUgAAACgAAAAlCAIAAAC/AjzkAAACJUlEQVR4nGP8//8/w0AAxlGLRy0etXhYW/z8+fP09PQ3YGBrazt37lyCxj179oyTk1NQUJAii3/+/HngwIEdO3ZMmDAhKCho7dq1+M06fPiwo6MjOzv7o0ePhIWFybcYAoD+lpKSIsbiJUuWxMbGAhk3btxQV1en1GJgOIuKihJj8Z8/f5YtWyYkJOTj44NfJZUtJgkMHYs/ffp07949BQUFAQEBNJU/fvx4+/YtUL2Kigo3NzfVLJ4zZ059fT0vL6+srOzSpUt//fq1cuVKoAsgynp6esrKyiCmnT592sTEhDoW+/v7A3NIW1ubuLg4UPDr168SEhIeHh6rV6+GqwRmv8DAwO3bt1PTYg4ODmCGtre3h4s7ODgcOnQI6AJgiQEXLCoq6u/vp6bFfHx8Hz9+RBYHhsGmTZtevXoFlIULFhcX9/X1UdNic3PzEydOYFp8//59eDTTxGI7O7uDBw9iWnz79m1gGh61eGhb/OLFC0lJSWtr6yNHjiCLe3t7b9u2Dc3i/Pz8SZMmnTp1ytTUlHyLP3/+vGrVKqAps2bNAhaBjY2Nampqvr6+O3fuvHbtWnNz8/v37xMTE4GB4efnd+vWLaBHgbbeuXMnLCzMxcUlISGBlZWVHIuBBe+MGTOAFTsbGxtQGbBg4ufnB7ZJFi5cCAwGoDgTE9MvMIiPjz979uz169eBKpmZmYEiQMUlJSVANeRYTFMwavGoxaMWD32LAeQAzcZc34w5AAAAAElFTkSuQmCC\">\n    <pre\n        style=\"width:47%;margin:0;padding:10px;float:right;white-space:pre-wrap\"\n        >\\begin{tikzpicture}\n\\node (b) at (1,1) {hi};\n\\end{tikzpicture}</pre>\n  </div>\n  <div style=\"clear:both\"></div>\n</div>"
     },
     "metadata": {}
    }
   ],
   "source": [
    "pic = Picture()\n",
    "pic.node('hi', 'b', at=(1, 1))\n",
    "pic.demo()"
   ]
  },
  {
   "cell_type": "code",
   "execution_count": null,
   "metadata": {},
   "outputs": [],
   "source": []
  }
 ],
 "metadata": {
  "language_info": {
   "codemirror_mode": {
    "name": "ipython",
    "version": 3
   },
   "file_extension": ".py",
   "mimetype": "text/x-python",
   "name": "python",
   "nbconvert_exporter": "python",
   "pygments_lexer": "ipython3",
   "version": "3.8.2-final"
  },
  "orig_nbformat": 2,
  "kernelspec": {
   "name": "python38264bitstdcondafbc71e15ee1847f1ad9c90ba15b2ed53",
   "display_name": "Python 3.8.2 64-bit ('std': conda)"
  }
 },
 "nbformat": 4,
 "nbformat_minor": 2
}