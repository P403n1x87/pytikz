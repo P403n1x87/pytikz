{
 "cells": [
  {
   "cell_type": "code",
   "execution_count": 1,
   "metadata": {},
   "outputs": [],
   "source": [
    "from tikz import *"
   ]
  },
  {
   "cell_type": "code",
   "execution_count": 2,
   "metadata": {},
   "outputs": [
    {
     "output_type": "execute_result",
     "data": {
      "text/plain": "'(12pt,2)'"
     },
     "metadata": {},
     "execution_count": 2
    }
   ],
   "source": [
    "moveto(('12pt', 2)).code()"
   ]
  },
  {
   "cell_type": "code",
   "execution_count": 3,
   "metadata": {},
   "outputs": [
    {
     "output_type": "execute_result",
     "data": {
      "text/plain": "'(12pt,2) (a)'"
     },
     "metadata": {},
     "execution_count": 3
    }
   ],
   "source": [
    "moveto([('12pt', 2), '(a)']).code()"
   ]
  },
  {
   "cell_type": "code",
   "execution_count": 4,
   "metadata": {},
   "outputs": [
    {
     "output_type": "execute_result",
     "data": {
      "text/plain": "'-- (a |- b)'"
     },
     "metadata": {},
     "execution_count": 4
    }
   ],
   "source": [
    "lineto('(a |- b)').code()"
   ]
  },
  {
   "cell_type": "code",
   "execution_count": 5,
   "metadata": {},
   "outputs": [
    {
     "output_type": "execute_result",
     "data": {
      "text/plain": "'-- (a |- b) -- (1.5,2.5)'"
     },
     "metadata": {},
     "execution_count": 5
    }
   ],
   "source": [
    "lineto(['(a |- b)', (1.5, 2.5)]).code()"
   ]
  },
  {
   "cell_type": "code",
   "execution_count": 6,
   "metadata": {},
   "outputs": [
    {
     "output_type": "execute_result",
     "data": {
      "text/plain": "'(a |- b) |- (1.5,2.5)'"
     },
     "metadata": {},
     "execution_count": 6
    }
   ],
   "source": [
    "line(['(a |- b)', (1.5, 2.5)], '|-').code()"
   ]
  },
  {
   "cell_type": "code",
   "execution_count": 7,
   "metadata": {},
   "outputs": [
    {
     "output_type": "execute_result",
     "data": {
      "text/plain": "'.. controls (1,9) .. (a)'"
     },
     "metadata": {},
     "execution_count": 7
    }
   ],
   "source": [
    "curveto('(a)', (1, 9)).code()"
   ]
  },
  {
   "cell_type": "code",
   "execution_count": 8,
   "metadata": {},
   "outputs": [
    {
     "output_type": "execute_result",
     "data": {
      "text/plain": "'.. controls (1,9) and (b) .. cycle'"
     },
     "metadata": {},
     "execution_count": 8
    }
   ],
   "source": [
    "curveto('cycle', (1, 9), '(b)').code()"
   ]
  },
  {
   "cell_type": "code",
   "execution_count": 9,
   "metadata": {},
   "outputs": [
    {
     "output_type": "execute_result",
     "data": {
      "text/plain": "'to[red] (3.14156,a)'"
     },
     "metadata": {},
     "execution_count": 9
    }
   ],
   "source": [
    "topath((3.1415627, 'a'), red=True).code()"
   ]
  },
  {
   "cell_type": "code",
   "execution_count": 10,
   "metadata": {},
   "outputs": [
    {
     "output_type": "execute_result",
     "data": {
      "text/plain": "'rectangle[draw=red] (3.14156,10000)'"
     },
     "metadata": {},
     "execution_count": 10
    }
   ],
   "source": [
    "rectangle((3.1415627, 1e4), draw='red').code()"
   ]
  },
  {
   "cell_type": "code",
   "execution_count": 11,
   "metadata": {},
   "outputs": [
    {
     "output_type": "execute_result",
     "data": {
      "text/plain": "'circle[radius=1]'"
     },
     "metadata": {},
     "execution_count": 11
    }
   ],
   "source": [
    "circle(radius=1).code()"
   ]
  },
  {
   "cell_type": "code",
   "execution_count": 12,
   "metadata": {},
   "outputs": [
    {
     "output_type": "execute_result",
     "data": {
      "text/plain": "'circle[radius=1pt]'"
     },
     "metadata": {},
     "execution_count": 12
    }
   ],
   "source": [
    "circle(radius='1pt').code()"
   ]
  },
  {
   "cell_type": "code",
   "execution_count": 13,
   "metadata": {},
   "outputs": [
    {
     "output_type": "execute_result",
     "data": {
      "text/plain": "'circle[x radius=1pt]'"
     },
     "metadata": {},
     "execution_count": 13
    }
   ],
   "source": [
    "circle(x_radius='1pt').code()"
   ]
  },
  {
   "cell_type": "code",
   "execution_count": 14,
   "metadata": {},
   "outputs": [
    {
     "output_type": "execute_result",
     "data": {
      "text/plain": "'circle[red,rounded corners,x radius=1pt,at=(3mm,2.34)]'"
     },
     "metadata": {},
     "execution_count": 14
    }
   ],
   "source": [
    "circle(x_radius='1pt', opt='red', rounded_corners=True, at=('3mm', 2.34)).code()"
   ]
  },
  {
   "cell_type": "code",
   "execution_count": 15,
   "metadata": {},
   "outputs": [
    {
     "output_type": "execute_result",
     "data": {
      "text/plain": "'arc[start angle=180,end angle=90]'"
     },
     "metadata": {},
     "execution_count": 15
    }
   ],
   "source": [
    "arc(start_angle=180, end_angle=90).code()"
   ]
  },
  {
   "cell_type": "code",
   "execution_count": 16,
   "metadata": {},
   "outputs": [
    {
     "output_type": "execute_result",
     "data": {
      "text/plain": "'arc[start angle=0,end angle=270,x radius=1cm,y radius=5mm]'"
     },
     "metadata": {},
     "execution_count": 16
    }
   ],
   "source": [
    "arc(start_angle=0, end_angle=270, x_radius='1cm', y_radius='5mm').code()"
   ]
  },
  {
   "cell_type": "code",
   "execution_count": 19,
   "metadata": {},
   "outputs": [
    {
     "output_type": "execute_result",
     "data": {
      "text/plain": "'grid[step=1] (3mm,2.34)'"
     },
     "metadata": {},
     "execution_count": 19
    }
   ],
   "source": [
    "grid(('3mm', 2.34), step=1).code()"
   ]
  },
  {
   "cell_type": "code",
   "execution_count": null,
   "metadata": {},
   "outputs": [],
   "source": []
  }
 ],
 "metadata": {
  "language_info": {
   "codemirror_mode": {
    "name": "ipython",
    "version": 3
   },
   "file_extension": ".py",
   "mimetype": "text/x-python",
   "name": "python",
   "nbconvert_exporter": "python",
   "pygments_lexer": "ipython3",
   "version": "3.8.2-final"
  },
  "orig_nbformat": 2,
  "kernelspec": {
   "name": "python38264bitstdcondafbc71e15ee1847f1ad9c90ba15b2ed53",
   "display_name": "Python 3.8.2 64-bit ('std': conda)"
  }
 },
 "nbformat": 4,
 "nbformat_minor": 2
}